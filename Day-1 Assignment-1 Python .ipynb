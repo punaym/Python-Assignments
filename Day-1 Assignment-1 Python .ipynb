{
 "cells": [
  {
   "cell_type": "code",
   "execution_count": 6,
   "metadata": {},
   "outputs": [],
   "source": [
    "import math"
   ]
  },
  {
   "cell_type": "code",
   "execution_count": 8,
   "metadata": {},
   "outputs": [
    {
     "name": "stdout",
     "output_type": "stream",
     "text": [
      "enter number: 25\n",
      "The square root of no. entered is :  5.0\n"
     ]
    }
   ],
   "source": [
    "# Write a program find square root of a number\n",
    "a = int(input(\"enter number: \"))\n",
    "\n",
    "\n",
    "print(\"The square root of no. entered is : \", math.sqrt(a))"
   ]
  },
  {
   "cell_type": "code",
   "execution_count": 10,
   "metadata": {},
   "outputs": [
    {
     "name": "stdout",
     "output_type": "stream",
     "text": [
      "Enter Value for base of Triangle:5\n",
      "Enter Value for height of Triangle:6\n",
      "the area of a triangle for given base and height as  15.0\n"
     ]
    }
   ],
   "source": [
    "# Python Program to find the area of triangle\n",
    "base = int(input(\"Enter Value of Triangle Base:\"))\n",
    "height = int(input(\"Enter Value of Triangle Height:\"))\n",
    "area = (base*height)*(1/2)\n",
    "print(\"the area of a triangle for given base and height as \" ,area)"
   ]
  },
  {
   "cell_type": "code",
   "execution_count": 11,
   "metadata": {},
   "outputs": [
    {
     "name": "stdout",
     "output_type": "stream",
     "text": [
      "Enter value 1 :  dfg\n",
      "Enter value 2 :  wer\n",
      "The swaped value is :   ('wer', 'dfg')\n"
     ]
    }
   ],
   "source": [
    "#Python program to swap two variables provided by the user without temporary variable\n",
    "a= input(\"Enter value 1 :  \")\n",
    "b= input(\"Enter value 2 :  \")\n",
    "def swap(v1,v2):\n",
    "    return(v2,v1)\n",
    "swp=swap(a,b)\n",
    "print(\"The swaped value is :  \", swp)"
   ]
  },
  {
   "cell_type": "code",
   "execution_count": 13,
   "metadata": {},
   "outputs": [
    {
     "name": "stdout",
     "output_type": "stream",
     "text": [
      "enter the year: 2016\n",
      "It is a leap year\n"
     ]
    }
   ],
   "source": [
    "# Python program to check if the input year is a leap year or not\n",
    "year = int(input(\"enter the year: \"))\n",
    "if  year%4 == 0 :\n",
    "    print(\"It is a leap year\")\n",
    "    \n",
    "elif year%100 == 0 or year%4 == 0 :\n",
    "    print('it is a leap year')\n",
    "else :\n",
    "    print(\" isn't a leap year\")"
   ]
  },
  {
   "cell_type": "code",
   "execution_count": null,
   "metadata": {},
   "outputs": [],
   "source": [
    "# Program to display the Fibonacci sequence up to n-th term where n is provided by the user\n",
    "   n=int(input(\"Enter the number of terms needed \"))\n",
    "except:\n",
    "    print(\"Enter a NUMERIC VALUE\")\n",
    "a=1\n",
    "b=1\n",
    "res= [a,b]\n",
    "while(n-2):\n",
    "    c= a+b\n",
    "    a=b\n",
    "    b=c\n",
    "    res.append(c)\n",
    "    n=n-1\n",
    "print(res)"
   ]
  },
  {
   "cell_type": "code",
   "execution_count": 42,
   "metadata": {},
   "outputs": [
    {
     "name": "stdout",
     "output_type": "stream",
     "text": [
      "enter the No: 156\n",
      "sum is of digits to power  3 is:  342\n",
      "Number is not Armstrong\n"
     ]
    }
   ],
   "source": [
    "#Python program to check if the number provided by the user is an Armstrong number or not\n",
    "\n",
    "\n",
    "a = input(\"enter the No: \")\n",
    "vec = []\n",
    "for e in a:\n",
    "    vec.append(int(e) ** len(a))\n",
    "sum = 0\n",
    "for i in vec :\n",
    "    sum = sum+int(i)\n",
    "print(\"sum is of digits to power \", len(a) ,\"is: \" , sum)\n",
    "if sum == int(a):\n",
    "    print(\"Number is Armstrong\")\n",
    "else :\n",
    "    print(\"Number is not Armstrong\")"
   ]
  },
  {
   "cell_type": "code",
   "execution_count": 41,
   "metadata": {},
   "outputs": [
    {
     "name": "stdout",
     "output_type": "stream",
     "text": [
      "enter value:5\n"
     ]
    },
    {
     "data": {
      "text/plain": [
       "[2, 4, 8, 16, 32]"
      ]
     },
     "execution_count": 41,
     "metadata": {},
     "output_type": "execute_result"
    }
   ],
   "source": [
    "#Python Program to display the powers of 2 using anonymous function\n",
    "power = lambda i : [ 2**i for i in list(range(1,i+1))]\n",
    "i = int(input(\"enter value:\"))\n",
    "power(i)\n"
   ]
  }
 ],
 "metadata": {
  "kernelspec": {
   "display_name": "Python 3",
   "language": "python",
   "name": "python3"
  },
  "language_info": {
   "codemirror_mode": {
    "name": "ipython",
    "version": 3
   },
   "file_extension": ".py",
   "mimetype": "text/x-python",
   "name": "python",
   "nbconvert_exporter": "python",
   "pygments_lexer": "ipython3",
   "version": "3.6.4"
  }
 },
 "nbformat": 4,
 "nbformat_minor": 2
}
